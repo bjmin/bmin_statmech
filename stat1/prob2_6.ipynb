{
 "cells": [
  {
   "cell_type": "markdown",
   "metadata": {},
   "source": [
    "# Problem 2-6"
   ]
  },
  {
   "cell_type": "markdown",
   "metadata": {},
   "source": [
    "상태 2에서 압력을 P_2라고 하고 이상기체 상태방정식을 적용하여 각 지점의 온도를 구하면 다음과 같다.  \n",
    "$\\begin{align}\n",
    "T_1 = \\frac{2 P V}{Nk}, \\quad\n",
    "T_2 = \\frac{2 P_2 V}{Nk}, \\quad\n",
    "T_3 = \\frac{P_2 V}{Nk}\n",
    "\\end{align} $"
   ]
  },
  {
   "cell_type": "markdown",
   "metadata": {},
   "source": [
    "$T_1$과 $T_2$를 정리하면\n",
    "$$ P_2 = P \\frac{T_2}{T_1}. $$"
   ]
  },
  {
   "cell_type": "code",
   "execution_count": null,
   "metadata": {},
   "outputs": [],
   "source": []
  }
 ],
 "metadata": {
  "kernelspec": {
   "display_name": "Python 3",
   "language": "python",
   "name": "python3"
  },
  "language_info": {
   "codemirror_mode": {
    "name": "ipython",
    "version": 3
   },
   "file_extension": ".py",
   "mimetype": "text/x-python",
   "name": "python",
   "nbconvert_exporter": "python",
   "pygments_lexer": "ipython3",
   "version": "3.7.4"
  }
 },
 "nbformat": 4,
 "nbformat_minor": 2
}
