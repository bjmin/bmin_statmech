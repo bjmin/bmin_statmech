{
 "cells": [
  {
   "cell_type": "markdown",
   "metadata": {},
   "source": [
    "# 뉴턴 법칙"
   ]
  },
  {
   "cell_type": "markdown",
   "metadata": {},
   "source": [
    "뉴턴의 운동법칙이 시간대칭에 대해서 불변임을 확인하여라. 즉,\n",
    "$$ F= m\\frac{d^2 x}{dt^2}, $$\n",
    "이 $t \\rightarrow -t$로 바꾸고 식의 형태를 확인하여라."
   ]
  },
  {
   "cell_type": "markdown",
   "metadata": {},
   "source": [
    "# 연습문제 \n",
    "1. 예제 1-1  \n",
    "2. 연습문제 2-1   \n",
    "3. 연습문제 2-2  \n",
    "4. 연습문제 2-5  \n",
    "5. 연습문제 2-6  "
   ]
  }
 ],
 "metadata": {
  "kernelspec": {
   "display_name": "Python 3",
   "language": "python",
   "name": "python3"
  },
  "language_info": {
   "codemirror_mode": {
    "name": "ipython",
    "version": 3
   },
   "file_extension": ".py",
   "mimetype": "text/x-python",
   "name": "python",
   "nbconvert_exporter": "python",
   "pygments_lexer": "ipython3",
   "version": "3.7.4"
  }
 },
 "nbformat": 4,
 "nbformat_minor": 2
}
