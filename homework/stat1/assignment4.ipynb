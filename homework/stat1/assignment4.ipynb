{
 "cells": [
  {
   "cell_type": "markdown",
   "metadata": {},
   "source": [
    "# 숙제 4"
   ]
  },
  {
   "cell_type": "markdown",
   "metadata": {},
   "source": [
    "1. 연습문제 8-3  \n",
    "2. 연습문제 8-5   \n",
    "3. 연습문제 8-10  \n",
    "4. 연습문제 8-15 (8-5번 문제와 달리 이 문제에서는 단순조화 진자가 고전적으로 움직이는 상황입니다. 즉 하나의 조화진동자에 대한 해밀토니안은 다음과 같습니다. $H=\\frac{p^2}{2m}+\\frac{1}{2}m \\omega^2 x^2$ "
   ]
  },
  {
   "cell_type": "code",
   "execution_count": null,
   "metadata": {},
   "outputs": [],
   "source": []
  }
 ],
 "metadata": {
  "kernelspec": {
   "display_name": "Python 3",
   "language": "python",
   "name": "python3"
  },
  "language_info": {
   "codemirror_mode": {
    "name": "ipython",
    "version": 3
   },
   "file_extension": ".py",
   "mimetype": "text/x-python",
   "name": "python",
   "nbconvert_exporter": "python",
   "pygments_lexer": "ipython3",
   "version": "3.7.4"
  }
 },
 "nbformat": 4,
 "nbformat_minor": 2
}
